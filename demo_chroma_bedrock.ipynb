{
 "cells": [
  {
   "cell_type": "code",
   "execution_count": null,
   "metadata": {},
   "outputs": [],
   "source": [
    "%pip install chromadb"
   ]
  },
  {
   "cell_type": "code",
   "execution_count": null,
   "metadata": {},
   "outputs": [],
   "source": [
    "import json\n",
    "import boto3\n",
    "import os\n",
    "from langchain_community.document_loaders import DirectoryLoader\n",
    "from langchain_community.document_loaders import TextLoader\n",
    "from langchain.text_splitter import RecursiveCharacterTextSplitter\n",
    "import chromadb"
   ]
  },
  {
   "cell_type": "markdown",
   "metadata": {},
   "source": [
    "Setting Up the Environment"
   ]
  },
  {
   "cell_type": "code",
   "execution_count": null,
   "metadata": {},
   "outputs": [],
   "source": [
    "os.environ['AWS_DEFAULT_REGION'] = \"your asw region\"\n",
    "os.environ['AWS_PROFILE']=\"your profile\""
   ]
  },
  {
   "cell_type": "markdown",
   "metadata": {},
   "source": [
    "Embedding Model"
   ]
  },
  {
   "cell_type": "code",
   "execution_count": null,
   "metadata": {},
   "outputs": [],
   "source": [
    "class TitanEmbeddings(object):\n",
    "    accept = \"application/json\"\n",
    "    content_type = \"application/json\"\n",
    "    def __init__(self, model_id):\n",
    "        self.bedrock = boto3.client(service_name='your service')\n",
    "        self.model_id = model_id\n",
    "    def __call__(self, text):\n",
    "        \"\"\"\n",
    "        Returns Embeddings\n",
    "        Args:\n",
    "            text (str): text to embed\n",
    "            dimensions (int): Number of output dimensions.\n",
    "            normalize (bool): Whether to return the normalized embedding or not.\n",
    "        Return:\n",
    "            List[float]: Embedding\n",
    "            \n",
    "        \"\"\"\n",
    "        body = json.dumps({\n",
    "            \"inputText\": text,\n",
    "            \"dimensions\": 256,\n",
    "            \"normalize\": True\n",
    "        })\n",
    "\n",
    "        response = self.bedrock.invoke_model(\n",
    "            modelId=self.model_id,body=body,accept=self.accept, contentType=self.content_type\n",
    "        )\n",
    "        \n",
    "\n",
    "        response_body = json.loads(response.get('body').read())\n",
    "\n",
    "        return response_body['embedding']"
   ]
  },
  {
   "cell_type": "markdown",
   "metadata": {},
   "source": [
    "Preparing the data"
   ]
  },
  {
   "cell_type": "code",
   "execution_count": null,
   "metadata": {},
   "outputs": [],
   "source": [
    "titan_embeddings_v2 = TitanEmbeddings(model_id=\"your embedding model\")\n",
    "#Preparing the data\n",
    "loader = DirectoryLoader(\"new_articles/\", glob = \"./*.txt\", loader_cls= TextLoader)\n",
    "document = loader.load()\n",
    "# print(document)\n",
    "text_splitter = RecursiveCharacterTextSplitter(chunk_size = 600, chunk_overlap = 200)\n",
    "texts = text_splitter.split_documents(document)\n",
    "print(len(texts))"
   ]
  },
  {
   "cell_type": "markdown",
   "metadata": {},
   "source": [
    "Inserting the embeddings in the chromadb\n"
   ]
  },
  {
   "cell_type": "code",
   "execution_count": null,
   "metadata": {},
   "outputs": [],
   "source": [
    "client = chromadb.Client()\n",
    "\n",
    "\n",
    "# Create or get a collection , 500 = chunk_size , 100 = chunk_overlap (default is 1000,100)\n",
    "collection_name = \"embeddings_collection_600_200\"\n",
    "collection = client.get_or_create_collection(name=collection_name)\n",
    "\n",
    "\n",
    "print(\"Creating vector Database...\\n\")\n",
    "\n",
    "pos=0\n",
    "for doc in texts:\n",
    "    embedding = titan_embeddings_v2(doc.page_content)\n",
    "    metadata = doc.metadata\n",
    "    \n",
    "    # Store the embedding with associated metadata\n",
    "    collection.add(\n",
    "        embeddings=[embedding],  # List of embeddings\n",
    "        metadatas=[metadata],    # List of metadata dicts\n",
    "        ids=[f\"doc_{pos}\"]  # Unique IDs for each embedding, make sure to generate unique IDs for each document\n",
    "    )\n",
    "    pos+=1\n",
    "\n",
    "print(\"Vector Db creation Done...\")"
   ]
  },
  {
   "cell_type": "markdown",
   "metadata": {},
   "source": [
    "Querying...."
   ]
  },
  {
   "cell_type": "code",
   "execution_count": null,
   "metadata": {},
   "outputs": [],
   "source": [
    "query_text=input()\n",
    "collection_name = \"embeddings_collection_600_200\"\n",
    "collection = client.get_collection(name=collection_name)\n",
    "\n",
    "query_embedding = titan_embeddings_v2(query_text)\n",
    "\n",
    "\n",
    "# Query the collection\n",
    "results = collection.query(\n",
    "    query_embeddings=[query_embedding],  # Embedding to query\n",
    "    n_results=2                          # Number of similar results to retrieve\n",
    ")\n",
    "\n",
    "# Display results\n",
    "print(f\"Size: {len(results)}\")\n",
    "print(results[\"ids\"])\n",
    "print(results[\"distances\"])\n",
    "print(results[\"documents\"])\n",
    "print(results[\"metadatas\"])\n",
    "print(results[\"uris\"])"
   ]
  }
 ],
 "metadata": {
  "kernelspec": {
   "display_name": "Python 3",
   "language": "python",
   "name": "python3"
  },
  "language_info": {
   "codemirror_mode": {
    "name": "ipython",
    "version": 3
   },
   "file_extension": ".py",
   "mimetype": "text/x-python",
   "name": "python",
   "nbconvert_exporter": "python",
   "pygments_lexer": "ipython3",
   "version": "3.12.4"
  }
 },
 "nbformat": 4,
 "nbformat_minor": 2
}
